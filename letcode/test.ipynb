{
 "cells": [
  {
   "cell_type": "code",
   "execution_count": null,
   "metadata": {},
   "outputs": [],
   "source": [
    "lst1=[1,2,3,4,5,10]\n",
    "lst2=[1,1,1,2,2,3,4]\n",
    "k=30\n",
    "\n",
    "def AddTopk(lst1,lst2,k):\n",
    "    m=len(lst1)\n",
    "    n=len(lst2)\n",
    "    di=[-1 for _ in range(m)]\n",
    "    res=[]\n",
    "    while k>0:\n",
    "        cur=[]\n",
    "        mi=n-1\n",
    "        for i in range(m):\n",
    "            if di[i]<mi:\n",
    "                mi=di[i]\n",
    "                cur.append([i,di[i]+1])\n",
    "        curlst=[[lst1[c[0]],lst2[c[1]]] for c in cur]\n",
    "        sumcurlst=list(map(sum,curlst))\n",
    "        ind=cur[sumcurlst.index(min(sumcurlst))]\n",
    "        di[ind[0]]=ind[1]\n",
    "        res.append([lst1[ind[0]],lst2[ind[1]]])\n",
    "        k-=1\n",
    "    return res\n",
    "\n",
    "AddTopk(lst1,lst2,k)\n"
   ]
  },
  {
   "cell_type": "code",
   "execution_count": null,
   "metadata": {},
   "outputs": [],
   "source": [
    "lst1=[1,2,3]\n",
    "lst2=[1,1,2]\n",
    "k=9\n",
    "lst1=sorted(lst1,reverse=True)\n",
    "lst2=sorted(lst2,reverse=True)\n",
    "def AddTopk(lst1,lst2,k):\n",
    "    m=len(lst1)\n",
    "    n=len(lst2)\n",
    "    di=[-1 for _ in range(m)]\n",
    "    res=[]\n",
    "    sta=0\n",
    "    while k>0:\n",
    "        cur=0\n",
    "        mi=n-1\n",
    "        for i in range(sta,m):\n",
    "            if di[i]<mi:\n",
    "                mi=di[i]\n",
    "                if lst1[i]+lst2[di[i]+1]>cur:\n",
    "                    cur=lst1[i]+lst2[di[i]+1]\n",
    "                    ind=[i,di[i]+1]\n",
    "        di[ind[0]]=ind[1]\n",
    "        res.append(cur)\n",
    "        k-=1\n",
    "        if ind[1]==n-1:\n",
    "            sta=ind[0]+1\n",
    "    return res\n",
    "res=AddTopk(lst1,lst2,k)\n",
    "' '.join(map(str,res))\n"
   ]
  },
  {
   "cell_type": "code",
   "execution_count": 5,
   "metadata": {},
   "outputs": [
    {
     "name": "stdout",
     "output_type": "stream",
     "text": [
      "{5: 1, 2: 3, 4: 2}\n",
      "[3, 3, 2, 1]\n"
     ]
    }
   ],
   "source": [
    "n=4\n",
    "a=[2,1,3,2]\n",
    "b=[5,2,4,2]\n",
    "a.sort()\n",
    "c=sorted(b)\n",
    "dic={}\n",
    "for i in range(n):\n",
    "    dic[b[i]]=a[i]\n",
    "res=[]\n",
    "for i in c:\n",
    "    res.append(dic[i])\n",
    "print(dic)\n",
    "print(res)"
   ]
  },
  {
   "cell_type": "code",
   "execution_count": 7,
   "metadata": {},
   "outputs": [
    {
     "name": "stdout",
     "output_type": "stream",
     "text": [
      "[5, 2, 4, 2]\n"
     ]
    }
   ],
   "source": [
    "print(b)"
   ]
  },
  {
   "cell_type": "code",
   "execution_count": null,
   "metadata": {},
   "outputs": [],
   "source": []
  }
 ],
 "metadata": {
  "kernelspec": {
   "display_name": "base",
   "language": "python",
   "name": "python3"
  },
  "language_info": {
   "codemirror_mode": {
    "name": "ipython",
    "version": 3
   },
   "file_extension": ".py",
   "mimetype": "text/x-python",
   "name": "python",
   "nbconvert_exporter": "python",
   "pygments_lexer": "ipython3",
   "version": "3.8.5"
  },
  "orig_nbformat": 4
 },
 "nbformat": 4,
 "nbformat_minor": 2
}
