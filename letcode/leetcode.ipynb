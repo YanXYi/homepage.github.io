{
 "cells": [
  {
   "attachments": {},
   "cell_type": "markdown",
   "metadata": {},
   "source": [
    "## 前缀和"
   ]
  },
  {
   "attachments": {},
   "cell_type": "markdown",
   "metadata": {},
   "source": [
    "### 6317. 统计美丽子数组数目\n",
    "给你一个下标从 0 开始的整数数组nums 。每次操作中，你可以：\n",
    "\n",
    "选择两个满足 0 <= i, j < nums.length 的不同下标 i 和 j 。\n",
    "选择一个非负整数 k ，满足 nums[i] 和 nums[j] 在二进制下的第 k 位（下标编号从 0 开始）是 1 。\n",
    "将 nums[i] 和 nums[j] 都减去 2k 。\n",
    "如果一个子数组内执行上述操作若干次后，该子数组可以变成一个全为 0 的数组，那么我们称它是一个 美丽 的子数组。\n",
    "\n",
    "请你返回数组 nums 中 美丽子数组 的数目。\n",
    "\n",
    "子数组是一个数组中一段连续 非空 的元素序列。\n",
    "\n",
    " \n",
    "\n",
    "示例 1：\n",
    "\n",
    "输入：nums = [4,3,1,2,4]\n",
    "输出：2\n",
    "解释：nums 中有 2 个美丽子数组：[4,3,1,2,4] 和 [4,3,1,2,4] 。\n",
    "- 按照下述步骤，我们可以将子数组 [3,1,2] 中所有元素变成 0 ：\n",
    "  - 选择 [3, 1, 2] 和 k = 1 。将 2 个数字都减去 21 ，子数组变成 [1, 1, 0] 。\n",
    "  - 选择 [1, 1, 0] 和 k = 0 。将 2 个数字都减去 20 ，子数组变成 [0, 0, 0] 。\n",
    "- 按照下述步骤，我们可以将子数组 [4,3,1,2,4] 中所有元素变成 0 ：\n",
    "  - 选择 [4, 3, 1, 2, 4] 和 k = 2 。将 2 个数字都减去 22 ，子数组变成 [0, 3, 1, 2, 0] 。\n",
    "  - 选择 [0, 3, 1, 2, 0] 和 k = 0 。将 2 个数字都减去 20 ，子数组变成 [0, 2, 0, 2, 0] 。\n",
    "  - 选择 [0, 2, 0, 2, 0] 和 k = 1 。将 2 个数字都减去 21 ，子数组变成 [0, 0, 0, 0, 0] 。\n",
    "示例 2：\n",
    "\n",
    "输入：nums = [1,10,4]\n",
    "输出：0\n",
    "解释：nums 中没有任何美丽子数组。\n",
    "\n",
    "来源：力扣（LeetCode）\n",
    "链接：https://leetcode.cn/problems/count-the-number-of-beautiful-subarrays\n",
    "著作权归领扣网络所有。商业转载请联系官方授权，非商业转载请注明出处。\n",
    "\n",
    "方法:前缀和+hash表+异或运算"
   ]
  },
  {
   "cell_type": "code",
   "execution_count": 2,
   "metadata": {},
   "outputs": [
    {
     "data": {
      "text/plain": [
       "2"
      ]
     },
     "execution_count": 2,
     "metadata": {},
     "output_type": "execute_result"
    }
   ],
   "source": [
    "from collections import Counter\n",
    "class Solution:\n",
    "    def beautifulSubarrays(self, nums) -> int:\n",
    "        res=0\n",
    "        a=0\n",
    "        hash=Counter({a:1})\n",
    "        for x in nums:\n",
    "            a^=x    \n",
    "            res+=hash[a]\n",
    "            hash[a]+=1\n",
    "        return res\n",
    "# 前缀和是指x2+x3+x4=S4-S1,即如果其中有一段元素和x2+x3+x4为0，则S1=S4，即只需要统计前缀和序列中两两相同的元素对个数\n",
    "# 时间复杂度O(n)\n",
    "# 没有单独开辟一个空间来存储异或前缀和，直接在hash中统计前缀和中相同元素的个数\n",
    "# hash的应用中主要在：res+=hash[a]，是因为统计m个相同元素能够两两组成的相同元素对个数时，计算公式为组合数Cm2=(m-1)+(m-2)+(m-3)+...+2+1，这里没有用组合数的方法计算，而是使用的等号右边的式子计算的\n",
    "# Counter() 的使用，Counter({a:1})将字典{0:1}转换成Counter对象，与一般字典的区别是，可以直接使用+添加新元素，比如hash=Counter({2:1}),hash[1]+=1,则虽然hash中本没有1这个元素，也不会报错，会直接添加上去一个1；hash[3]输出为0，同样地原始没有3这个元素也不会报错，会输出0，程序书写更方便a\n",
    "\n",
    "nums=[4,3,1,2,4]\n",
    "solution=Solution()\n",
    "solution.beautifulSubarrays(nums)"
   ]
  },
  {
   "attachments": {},
   "cell_type": "markdown",
   "metadata": {},
   "source": [
    "### "
   ]
  },
  {
   "attachments": {},
   "cell_type": "markdown",
   "metadata": {},
   "source": [
    "## DFS/BFS"
   ]
  },
  {
   "attachments": {},
   "cell_type": "markdown",
   "metadata": {},
   "source": [
    "### 剑指 Offer II 105. 岛屿的最大面积\n",
    "给定一个由 0 和 1 组成的非空二维数组 grid ，用来表示海洋岛屿地图。\n",
    "\n",
    "一个 岛屿 是由一些相邻的 1 (代表土地) 构成的组合，这里的「相邻」要求两个 1 必须在水平或者竖直方向上相邻。你可以假设 grid 的四个边缘都被 0（代表水）包围着。\n",
    "\n",
    "找到给定的二维数组中最大的岛屿面积。如果没有岛屿，则返回面积为 0 。\n",
    "\n",
    "来源：力扣（LeetCode）\n",
    "链接：https://leetcode.cn/problems/ZL6zAn\n",
    "著作权归领扣网络所有。商业转载请联系官方授权，非商业转载请注明出处。\n",
    "\n",
    "+ 方法: dfs+栈,不使用回溯,提高效率"
   ]
  },
  {
   "cell_type": "code",
   "execution_count": 1,
   "metadata": {},
   "outputs": [
    {
     "data": {
      "text/plain": [
       "6"
      ]
     },
     "execution_count": 1,
     "metadata": {},
     "output_type": "execute_result"
    }
   ],
   "source": [
    "def maxAreaOfIsland(grid) -> int:\n",
    "    n,m=len(grid),len(grid[0])\n",
    "    res=0\n",
    "    for i in range(n):\n",
    "        for j in range(m): # 计算grid上每一个位置处所在的岛屿面积\n",
    "            cur=0\n",
    "            stack=[(i,j)]\n",
    "            while stack: # 时间复杂度是O(mn),这个while不乘入时间复杂度,因为这里只是搜寻grid[i][j]所在的那一块岛屿面积,需要的循环次数对mn来说是O(1)的\n",
    "                curi,curj=stack.pop() # 用dfs+栈,如果使用bfs,则使用队列,dfs+栈,bfs+队列\n",
    "                if curi<0 or curi>=n or curj<0 or curj>=m or grid[curi][curj]!=1:\n",
    "                    continue\n",
    "                cur+=1\n",
    "                grid[curi][curj]=0 # 避免重复走,当走过这一块的1之后,就将该处修改为0\n",
    "                for di,dj in ([1,0],[0,1],[-1,0],[0,-1]):\n",
    "                    stack.append((curi+di,curj+dj))\n",
    "            res=max(res,cur)\n",
    "    return res\n",
    "\n",
    "grid=[[0,0,1,0,0,0,0,1,0,0,0,0,0],[0,0,0,0,0,0,0,1,1,1,0,0,0],[0,1,1,0,1,0,0,0,0,0,0,0,0],[0,1,0,0,1,1,0,0,1,0,1,0,0],[0,1,0,0,1,1,0,0,1,1,1,0,0],[0,0,0,0,0,0,0,0,0,0,1,0,0],[0,0,0,0,0,0,0,1,1,1,0,0,0],[0,0,0,0,0,0,0,1,1,0,0,0,0]]\n",
    "maxAreaOfIsland(grid)"
   ]
  },
  {
   "attachments": {},
   "cell_type": "markdown",
   "metadata": {},
   "source": [
    "一个数列nums, 不改变序列中数的顺序,用'+'和'-'两种运算将其中的数组合起来,使其结果等于k,返回所有满足要求的组合方法"
   ]
  },
  {
   "cell_type": "code",
   "execution_count": 6,
   "metadata": {},
   "outputs": [
    {
     "data": {
      "text/plain": [
       "5"
      ]
     },
     "execution_count": 6,
     "metadata": {},
     "output_type": "execute_result"
    }
   ],
   "source": [
    "def jiajianshu(nums,k):\n",
    "    res=[]\n",
    "    n=len(nums)\n",
    "    def dfs(i,cur):\n",
    "        if i==n:\n",
    "            if cur==k:\n",
    "                res.append(1)\n",
    "            return\n",
    "        dfs(i+1,cur+nums[i])\n",
    "        dfs(i+1,cur-nums[i])\n",
    "    dfs(0,0)\n",
    "    return sum(res)\n",
    "\n",
    "nums=[1,1,1,1,1]\n",
    "k=3\n",
    "jiajianshu(nums,k)"
   ]
  },
  {
   "cell_type": "code",
   "execution_count": null,
   "metadata": {},
   "outputs": [],
   "source": []
  },
  {
   "attachments": {},
   "cell_type": "markdown",
   "metadata": {},
   "source": [
    "## 图"
   ]
  },
  {
   "cell_type": "code",
   "execution_count": null,
   "metadata": {},
   "outputs": [],
   "source": []
  },
  {
   "cell_type": "code",
   "execution_count": null,
   "metadata": {},
   "outputs": [],
   "source": []
  },
  {
   "attachments": {},
   "cell_type": "markdown",
   "metadata": {},
   "source": [
    "## 二叉树"
   ]
  },
  {
   "cell_type": "code",
   "execution_count": null,
   "metadata": {},
   "outputs": [],
   "source": [
    "class Solution:\n",
    "    def generateTrees(self, n: int) -> List[TreeNode]:\n",
    "        def generateTrees(start, end):\n",
    "            if start > end:\n",
    "                return [None,]\n",
    "            \n",
    "            allTrees = []\n",
    "            for i in range(start, end + 1):  # 枚举可行根节点\n",
    "                # 获得所有可行的左子树集合\n",
    "                leftTrees = generateTrees(start, i - 1)\n",
    "                \n",
    "                # 获得所有可行的右子树集合\n",
    "                rightTrees = generateTrees(i + 1, end)\n",
    "                \n",
    "                # 从左子树集合中选出一棵左子树，从右子树集合中选出一棵右子树，拼接到根节点上\n",
    "                for l in leftTrees:\n",
    "                    for r in rightTrees:\n",
    "                        currTree = TreeNode(i)\n",
    "                        currTree.left = l\n",
    "                        currTree.right = r\n",
    "                        allTrees.append(currTree)\n",
    "            \n",
    "            return allTrees\n",
    "        \n",
    "        return generateTrees(1, n) if n else []\n",
    "\n"
   ]
  },
  {
   "cell_type": "code",
   "execution_count": 1,
   "metadata": {},
   "outputs": [
    {
     "data": {
      "text/plain": [
       "3000"
      ]
     },
     "execution_count": 1,
     "metadata": {},
     "output_type": "execute_result"
    }
   ],
   "source": [
    "250*12"
   ]
  },
  {
   "cell_type": "code",
   "execution_count": 2,
   "metadata": {},
   "outputs": [
    {
     "data": {
      "text/plain": [
       "3.125"
      ]
     },
     "execution_count": 2,
     "metadata": {},
     "output_type": "execute_result"
    }
   ],
   "source": [
    "3000/960"
   ]
  },
  {
   "cell_type": "code",
   "execution_count": 3,
   "metadata": {},
   "outputs": [
    {
     "data": {
      "text/plain": [
       "30.9375"
      ]
     },
     "execution_count": 3,
     "metadata": {},
     "output_type": "execute_result"
    }
   ],
   "source": [
    "9.9*3.125"
   ]
  },
  {
   "cell_type": "code",
   "execution_count": 4,
   "metadata": {},
   "outputs": [
    {
     "data": {
      "text/plain": [
       "'0b10001'"
      ]
     },
     "execution_count": 4,
     "metadata": {},
     "output_type": "execute_result"
    }
   ],
   "source": [
    "bin(17)"
   ]
  },
  {
   "cell_type": "code",
   "execution_count": null,
   "metadata": {},
   "outputs": [],
   "source": []
  }
 ],
 "metadata": {
  "kernelspec": {
   "display_name": "base",
   "language": "python",
   "name": "python3"
  },
  "language_info": {
   "codemirror_mode": {
    "name": "ipython",
    "version": 3
   },
   "file_extension": ".py",
   "mimetype": "text/x-python",
   "name": "python",
   "nbconvert_exporter": "python",
   "pygments_lexer": "ipython3",
   "version": "3.8.5"
  },
  "orig_nbformat": 4,
  "vscode": {
   "interpreter": {
    "hash": "00a479a4b26d38a2327fdac5b81205273850058d81fd808d9a88464945b29968"
   }
  }
 },
 "nbformat": 4,
 "nbformat_minor": 2
}
